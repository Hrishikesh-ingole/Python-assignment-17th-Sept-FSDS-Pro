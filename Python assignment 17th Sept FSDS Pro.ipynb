{
 "cells": [
  {
   "cell_type": "raw",
   "id": "a59b9e06-176e-4c66-baa6-d0a75bf46dc2",
   "metadata": {},
   "source": [
    "Python assignment 17th Sept FSDS Pro"
   ]
  },
  {
   "cell_type": "raw",
   "id": "1f2b1fa6-8335-40b7-9f60-187dbc0af242",
   "metadata": {},
   "source": []
  },
  {
   "cell_type": "raw",
   "id": "13e58704-2c50-4f39-9905-30aaf720a958",
   "metadata": {},
   "source": [
    "For Loop :-"
   ]
  },
  {
   "cell_type": "raw",
   "id": "02f2fa20-7fe5-40b8-8cb7-7d12ad626b37",
   "metadata": {},
   "source": []
  },
  {
   "cell_type": "code",
   "execution_count": 2,
   "id": "9d490bca-9261-42e7-ab81-4597e37a8c0d",
   "metadata": {},
   "outputs": [
    {
     "name": "stdout",
     "output_type": "stream",
     "text": [
      "1\n",
      "2\n",
      "3\n",
      "4\n",
      "5\n",
      "6\n",
      "7\n",
      "8\n",
      "9\n",
      "10\n"
     ]
    }
   ],
   "source": [
    "#1. Write a Python program to print numbers from 1 to 10 using a for loop.\n",
    "\n",
    "for x in range(1,11):\n",
    "    print(x)\n"
   ]
  },
  {
   "cell_type": "raw",
   "id": "b6148dc3-d5f7-4afe-99b4-d035d9c4fef7",
   "metadata": {},
   "source": [
    "# 2. Explain the difference between a for loop and a while loop in Python.\n",
    "\n",
    "For loop - \n",
    " - For loop is used when we know the definet numbers of itterations.\n",
    " - For loop has fixed number of itterations and can not be stopped untill the itterations are completed.\n",
    " \n",
    "While loop - \n",
    " - While loop is used when we dont know the definet numbers of itterations.\n",
    " - While loop dont have fixed number of itterations and can not be stopped according to the condition given in the header.\n",
    " \n"
   ]
  },
  {
   "cell_type": "code",
   "execution_count": 5,
   "id": "95cb9bff-8130-488d-a0c3-d26c46860b7f",
   "metadata": {},
   "outputs": [
    {
     "name": "stdout",
     "output_type": "stream",
     "text": [
      "5050\n"
     ]
    }
   ],
   "source": [
    "#3. Write a Python program to calculate the sum of all numbers from 1 to 100 using a for loop.\n",
    "\n",
    "sum = 0\n",
    "for x in range(1,101):\n",
    "    sum = sum + x\n",
    "print(sum)"
   ]
  },
  {
   "cell_type": "code",
   "execution_count": 6,
   "id": "82ae62b9-f70e-46e1-95d0-c147641d36f5",
   "metadata": {},
   "outputs": [
    {
     "name": "stdout",
     "output_type": "stream",
     "text": [
      "1\n",
      "2\n",
      "3\n",
      "4\n",
      "5\n",
      "6\n"
     ]
    }
   ],
   "source": [
    "#4. How do you iterate through a list using a for loop in Python?\n",
    "\n",
    "list_1 = [1,2,3,4,5,6]\n",
    "for x in list_1:\n",
    "    print(x)"
   ]
  },
  {
   "cell_type": "code",
   "execution_count": 7,
   "id": "5407c513-d8e6-4403-bfd7-631ccb24424a",
   "metadata": {},
   "outputs": [
    {
     "name": "stdout",
     "output_type": "stream",
     "text": [
      "720\n"
     ]
    }
   ],
   "source": [
    "#5. Write a Python program to find the product of all elements in a list using a for loop.\n",
    "\n",
    "list_1 = [1,2,3,4,5,6]\n",
    "product = 1\n",
    "for x in list_1:\n",
    "    product = product*x\n",
    "print(product)"
   ]
  },
  {
   "cell_type": "code",
   "execution_count": 8,
   "id": "742b418f-b44e-469c-9166-465e0923dd5a",
   "metadata": {},
   "outputs": [
    {
     "name": "stdout",
     "output_type": "stream",
     "text": [
      "2\n",
      "4\n",
      "6\n",
      "8\n",
      "10\n",
      "12\n",
      "14\n",
      "16\n",
      "18\n",
      "20\n"
     ]
    }
   ],
   "source": [
    "#6. Create a Python program that prints all even numbers from 1 to 20 using a for loop.\n",
    "\n",
    "for  x in range(1,21):\n",
    "    if x%2==0:\n",
    "        print(x)"
   ]
  },
  {
   "cell_type": "code",
   "execution_count": 9,
   "id": "62576f2d-967b-48b1-b3a3-c05eed8bfbed",
   "metadata": {},
   "outputs": [
    {
     "name": "stdin",
     "output_type": "stream",
     "text": [
      "Enter the number to calculate the factorial of : 4\n"
     ]
    },
    {
     "name": "stdout",
     "output_type": "stream",
     "text": [
      "24\n"
     ]
    }
   ],
   "source": [
    "#7. Write a Python program that calculates the factorial of a number using a for loop.\n",
    "\n",
    "value = int(input('Enter the number to calculate the factorial of :'))\n",
    "counter = 1\n",
    "for x in range(1,value+1):\n",
    "    counter = counter * x\n",
    "print(counter)"
   ]
  },
  {
   "cell_type": "code",
   "execution_count": 10,
   "id": "02073d09-96f1-4642-88a2-254f95a9a335",
   "metadata": {},
   "outputs": [
    {
     "name": "stdout",
     "output_type": "stream",
     "text": [
      "P\n",
      "W\n",
      "S\n",
      "K\n",
      "I\n",
      "L\n",
      "L\n",
      "S\n"
     ]
    }
   ],
   "source": [
    "#8. How can you iterate through the characters of a string using a for loop in Python?\n",
    "\n",
    "string_1 = 'PWSKILLS'\n",
    "for x in string_1:\n",
    "    print(x)"
   ]
  },
  {
   "cell_type": "code",
   "execution_count": 11,
   "id": "29619e3d-00de-4dfa-84b6-82f4824284fa",
   "metadata": {},
   "outputs": [
    {
     "name": "stdout",
     "output_type": "stream",
     "text": [
      "6\n"
     ]
    }
   ],
   "source": [
    "#9. Write a Python program to find the largest number in a list using a for loop.\n",
    "\n",
    "list_1 = [1,2,6,5,4,3]\n",
    "largest = 0\n",
    "for x in list_1:\n",
    "    if largest < x:\n",
    "        largest = x\n",
    "print(largest)"
   ]
  },
  {
   "cell_type": "code",
   "execution_count": 12,
   "id": "737c450d-6235-4124-8778-8d1f44e589ea",
   "metadata": {},
   "outputs": [
    {
     "name": "stdin",
     "output_type": "stream",
     "text": [
      "Enter the vlaue of n :  5\n"
     ]
    },
    {
     "name": "stdout",
     "output_type": "stream",
     "text": [
      "[0, 1, 1, 2, 3]\n"
     ]
    }
   ],
   "source": [
    "#10. Create a Python program that prints the Fibonacci sequence up to a specified limit using a for loop.\n",
    "\n",
    "\n",
    "n = int(input('Enter the vlaue of n : '))\n",
    "list_1  = []\n",
    "for x in range(0,n):\n",
    "    if x <= 1 :\n",
    "        list_1.append(x)\n",
    "    else:\n",
    "        y  = (list_1[-1]) + (list_1[-2])\n",
    "        list_1.append(y)\n",
    "\n",
    "print(list_1)\n",
    "        "
   ]
  },
  {
   "cell_type": "code",
   "execution_count": 17,
   "id": "23206932-8a28-4a95-9eb4-2e642c820ab3",
   "metadata": {},
   "outputs": [
    {
     "name": "stdin",
     "output_type": "stream",
     "text": [
      "Enter any word HI PWSKILLS\n"
     ]
    },
    {
     "name": "stdout",
     "output_type": "stream",
     "text": [
      "you have 2 vovels in the entered word\n"
     ]
    }
   ],
   "source": [
    "#11. Write a Python program to count the number of vowels in a given string using a for loop.\n",
    "\n",
    "\n",
    "e = input('Enter any word') # input\n",
    "f = ('a','e','i','o','u') # listed vovels\n",
    "count = 0  # temprory counter as 0\n",
    "for x in e.lower():  # iterating the alphabests of word\n",
    "    if x in f : # checking if alphabet is among vovel stated\n",
    "        count = count + 1 # if matched increacing the counter\n",
    "    else :\n",
    "        pass   # if not found passing to next itteration\n",
    "print('you have ' + str(count) +  ' vovels in the entered word')\n"
   ]
  },
  {
   "cell_type": "code",
   "execution_count": 18,
   "id": "c34ab3c2-2919-40c0-819f-9ba7a0d63a39",
   "metadata": {},
   "outputs": [
    {
     "name": "stdin",
     "output_type": "stream",
     "text": [
      "Enter the number to calcualte the tabel for :  5\n"
     ]
    },
    {
     "name": "stdout",
     "output_type": "stream",
     "text": [
      "5*1=5\n",
      "5*2=10\n",
      "5*3=15\n",
      "5*4=20\n",
      "5*5=25\n",
      "5*6=30\n",
      "5*7=35\n",
      "5*8=40\n",
      "5*9=45\n",
      "5*10=50\n"
     ]
    }
   ],
   "source": [
    "#12. Create a Python program that generates a multiplication table for a given number using a for loop.\n",
    "\n",
    "\n",
    "value  = int(input('Enter the number to calcualte the tabel for : '))\n",
    "for x in range(1,11):\n",
    "    print(str(value) + '*' + str(x) + '=' + str(value*x))"
   ]
  },
  {
   "cell_type": "code",
   "execution_count": 24,
   "id": "06f15ee4-70da-45c1-b547-60e5b088da05",
   "metadata": {},
   "outputs": [
    {
     "data": {
      "text/plain": [
       "[6, 5, 4, 3, 2, 1]"
      ]
     },
     "execution_count": 24,
     "metadata": {},
     "output_type": "execute_result"
    }
   ],
   "source": [
    "#13. Write a Python program to reverse a list using a for loop.\n",
    "\n",
    "list_1 = [1,2,3,4,5,6]\n",
    "list_2 = []\n",
    "for x in range(len(list_1),0,-1):\n",
    "    list_2.append(x)\n",
    "list_2"
   ]
  },
  {
   "cell_type": "code",
   "execution_count": 25,
   "id": "9cf52ad9-b4ff-4ad0-b561-5e860f18b59e",
   "metadata": {},
   "outputs": [
    {
     "name": "stdout",
     "output_type": "stream",
     "text": [
      "common elements between two lists are  [4, 5, 6]\n"
     ]
    }
   ],
   "source": [
    "#14. Write a Python program to find the common elements between two lists using a for loop.\n",
    "\n",
    "\n",
    "list_1 = [1,2,3,4,5,6]\n",
    "list_2 = [4,5,6,7,8,9]\n",
    "list_3 = []\n",
    "for x in list_1:\n",
    "    if x in list_2:\n",
    "        list_3.append(x)\n",
    "\n",
    "print('common elements between two lists are ',list_3)"
   ]
  },
  {
   "cell_type": "code",
   "execution_count": 28,
   "id": "2d624d92-786f-4ed1-88b0-b9681fb6cf01",
   "metadata": {},
   "outputs": [
    {
     "name": "stdout",
     "output_type": "stream",
     "text": [
      "To pring keys using for loop\n",
      "a\n",
      "b\n",
      "c\n",
      "d\n",
      "e\n",
      "To pring values using for loop\n",
      "1\n",
      "2\n",
      "3\n",
      "4\n",
      "5\n"
     ]
    }
   ],
   "source": [
    "#15. Explain how to use a for loop to iterate through the keys and values of a dictionary in Python.\n",
    "\n",
    "dict_1 = {'a':1,'b':2,'c':3,'d':4,'e':5}\n",
    "\n",
    "print('To pring keys using for loop')\n",
    "for x in dict_1:\n",
    "    print(x)\n",
    "\n",
    "print('To pring values using for loop')\n",
    "for x in dict_1:\n",
    "    print(dict_1[x])"
   ]
  },
  {
   "cell_type": "code",
   "execution_count": 29,
   "id": "a403cc60-94c9-46b6-b5b0-1e9c5d087331",
   "metadata": {},
   "outputs": [
    {
     "name": "stdin",
     "output_type": "stream",
     "text": [
      "Enter the value of A :  30\n",
      "Enter the value of B :  23\n"
     ]
    },
    {
     "name": "stdout",
     "output_type": "stream",
     "text": [
      "gcd =  1\n"
     ]
    }
   ],
   "source": [
    "#16. Write a Python program to find the GCD (Greatest Common Divisor) of two numbers using a for loop\n",
    "\n",
    "a = int(input('Enter the value of A : '))\n",
    "b = int(input('Enter the value of B : '))\n",
    "\n",
    "if a > b:\n",
    "    temp = a\n",
    "else:\n",
    "    temp = b\n",
    "for i in range(1, temp + 1):  \n",
    "    if (( a % i == 0) and (b % i == 0 )):  \n",
    "        gcd = i  \n",
    "print('gcd = ',gcd)"
   ]
  },
  {
   "cell_type": "code",
   "execution_count": 30,
   "id": "fcf2efdc-1bb3-4293-93c6-d7b747189cab",
   "metadata": {},
   "outputs": [
    {
     "name": "stdin",
     "output_type": "stream",
     "text": [
      "enter any palindrome word hrirh\n"
     ]
    },
    {
     "name": "stdout",
     "output_type": "stream",
     "text": [
      "The entered string is palindrome\n"
     ]
    }
   ],
   "source": [
    "#17. Create a Python program that checks if a string is a palindrome using a for loop.\n",
    "\n",
    "b = input('enter any palindrome word') # taken input\n",
    "b_p = b[::-1] #reversed the string\n",
    "if b == b_p: # checking if palindrome or not \n",
    "    print('The entered string is palindrome') # if yes - print as OP\n",
    "else :\n",
    "    print('The entered string is not palindrome') # if not - print as OP"
   ]
  },
  {
   "cell_type": "code",
   "execution_count": 31,
   "id": "9ada32dc-7829-4bae-b830-6b58b218248b",
   "metadata": {},
   "outputs": [
    {
     "name": "stdout",
     "output_type": "stream",
     "text": [
      "[1, 2, 3, 4, 5, 6, 7, 8, 9, 10]\n"
     ]
    }
   ],
   "source": [
    "#18. Write a Python program to remove duplicates from a list using a for loop.\n",
    "\n",
    "l1 = [1,2,3,3,3,3,3,4,5,6,7,8,9,10]\n",
    "l2 = []\n",
    "for x in l1:\n",
    "    if x not in l2:\n",
    "        l2.append(x)\n",
    "print(l2)"
   ]
  },
  {
   "cell_type": "code",
   "execution_count": 35,
   "id": "eda651eb-c491-43b9-b33b-83abb2934a23",
   "metadata": {},
   "outputs": [
    {
     "name": "stdin",
     "output_type": "stream",
     "text": [
      "Enter the scentence :  hi am rishi\n"
     ]
    },
    {
     "name": "stdout",
     "output_type": "stream",
     "text": [
      "3\n"
     ]
    }
   ],
   "source": [
    "#19. Create a Python program that counts the number of words in a sentence using a for loop.\n",
    "\n",
    "string_1 = input('Enter the scentence : ').split()\n",
    "counter = 0\n",
    "for x in string_1:\n",
    "    counter += 1\n",
    "\n",
    "print(counter)"
   ]
  },
  {
   "cell_type": "code",
   "execution_count": 36,
   "id": "a14c1dd0-b54a-441c-bc68-f43facca3966",
   "metadata": {},
   "outputs": [
    {
     "name": "stdout",
     "output_type": "stream",
     "text": [
      "625\n"
     ]
    }
   ],
   "source": [
    "#20. Write a Python program to find the sum of all odd numbers from 1 to 50 using a for loop.\n",
    "\n",
    "sum = 0\n",
    "for x in range(1,51):\n",
    "    if x %2 != 0:\n",
    "        sum = sum + x\n",
    "print(sum)"
   ]
  },
  {
   "cell_type": "code",
   "execution_count": 39,
   "id": "d6802fc2-83db-48b1-8b9c-e98243b5f527",
   "metadata": {},
   "outputs": [
    {
     "name": "stdin",
     "output_type": "stream",
     "text": [
      "Enter the year :  2024\n"
     ]
    },
    {
     "name": "stdout",
     "output_type": "stream",
     "text": [
      "yes\n"
     ]
    }
   ],
   "source": [
    "#21. Write a Python program that checks if a given year is a leap year using a for loop.\n",
    "\n",
    "year = int(input('Enter the year : '))\n",
    "if year % 4 == 0:\n",
    "    print('yes')\n",
    "else:\n",
    "    print('NO')\n"
   ]
  },
  {
   "cell_type": "code",
   "execution_count": 40,
   "id": "88cd4f7f-17ad-45cc-8da1-7dfc943d07da",
   "metadata": {},
   "outputs": [
    {
     "name": "stdin",
     "output_type": "stream",
     "text": [
      "Enter the number :  4\n"
     ]
    },
    {
     "data": {
      "text/plain": [
       "2.0"
      ]
     },
     "execution_count": 40,
     "metadata": {},
     "output_type": "execute_result"
    }
   ],
   "source": [
    "#22. Create a Python program that calculates the square root of a number using a for loop.\n",
    "\n",
    "(int(input('Enter the number : ')))**0.5"
   ]
  },
  {
   "cell_type": "code",
   "execution_count": 49,
   "id": "1f09743b-6e3a-4646-a4d7-56d71c95debe",
   "metadata": {},
   "outputs": [
    {
     "name": "stdin",
     "output_type": "stream",
     "text": [
      "Enter the first number :  15\n",
      "Enter the Second number :  20\n"
     ]
    },
    {
     "name": "stdout",
     "output_type": "stream",
     "text": [
      "LCM =  60\n"
     ]
    }
   ],
   "source": [
    "#23. Write a Python program to find the LCM (Least Common Multiple) of two numbers using a for loop.\n",
    "\n",
    "a = int(input('Enter the first number : '))\n",
    "b = int(input('Enter the Second number : '))\n",
    "list_a = []\n",
    "list_b = []\n",
    "common = []\n",
    "for x in range(1,21):\n",
    "    list_a.append(x*a)\n",
    "for x in range(1,11):\n",
    "    list_b.append(x*b)\n",
    "for x in list_a:\n",
    "    if x in list_b:\n",
    "        common.append(x)\n",
    "print('LCM = ',common[0])"
   ]
  },
  {
   "cell_type": "raw",
   "id": "de68a627-0738-4a27-a359-021bc72aa424",
   "metadata": {},
   "source": []
  },
  {
   "cell_type": "raw",
   "id": "5ef63d56-c34e-4f9b-8ca8-5bd06b6c5c42",
   "metadata": {},
   "source": [
    "If else :"
   ]
  },
  {
   "cell_type": "raw",
   "id": "f84c8a5c-94d2-4d77-b492-2edc20ed2660",
   "metadata": {},
   "source": []
  },
  {
   "cell_type": "code",
   "execution_count": 7,
   "id": "877f6387-7be7-4954-900a-435398435456",
   "metadata": {},
   "outputs": [
    {
     "name": "stdin",
     "output_type": "stream",
     "text": [
      "Enter the number :  1\n"
     ]
    },
    {
     "name": "stdout",
     "output_type": "stream",
     "text": [
      "Number is Positive\n"
     ]
    }
   ],
   "source": [
    "#1. Write a Python program to check if a number is positive, negative, or zero using an if-else statement.\n",
    "\n",
    "\n",
    "a = int(input('Enter the number : '))\n",
    "\n",
    "if a < 0:\n",
    "    print('Number is negative')\n",
    "\n",
    "elif a > 0:\n",
    "    print('Number is Positive')\n",
    "else:\n",
    "    print('number is 0')\n",
    "    "
   ]
  },
  {
   "cell_type": "code",
   "execution_count": 8,
   "id": "396f36ee-fa0a-4958-aae7-376aea24ec16",
   "metadata": {},
   "outputs": [
    {
     "name": "stdin",
     "output_type": "stream",
     "text": [
      "Enter the number :  5\n"
     ]
    },
    {
     "name": "stdout",
     "output_type": "stream",
     "text": [
      "Number is odd\n"
     ]
    }
   ],
   "source": [
    "#2. Create a Python program that checks if a given number is even or odd using an if-else statement.\n",
    "\n",
    "\n",
    "a = int(input('Enter the number : '))\n",
    "\n",
    "if a%2 == 0:\n",
    "    print('number is Even')\n",
    "else:\n",
    "    print('Number is odd')"
   ]
  },
  {
   "cell_type": "code",
   "execution_count": 9,
   "id": "692bc0c6-532d-4f1f-91de-1b80abf28cec",
   "metadata": {},
   "outputs": [
    {
     "name": "stdin",
     "output_type": "stream",
     "text": [
      "Enter the score :  56\n"
     ]
    },
    {
     "name": "stdout",
     "output_type": "stream",
     "text": [
      "C grade\n"
     ]
    }
   ],
   "source": [
    "#3. How can you use nested if-else statements in Python, and provide an example?\n",
    "\n",
    "# if-else statement inside the if or else is called as nested if-else statements\n",
    "# example to Write a Python program to calculate the grade based on a student's score.\n",
    "\n",
    "# 100 - 80 - A\n",
    "# 80 - 60 - B\n",
    "# 60 - 40 - C\n",
    "# below 40 -D\n",
    "\n",
    "score = int(input('Enter the score : '))\n",
    "\n",
    "if 100 >= score >40:\n",
    "    if 100 >= score > 60:\n",
    "        if 100 >= score > 80:\n",
    "            print('A grade')\n",
    "        else:\n",
    "            print('B grade')\n",
    "    else:\n",
    "        print('C grade')\n",
    "else:\n",
    "    print('D grade')"
   ]
  },
  {
   "cell_type": "code",
   "execution_count": 10,
   "id": "1e14e1c3-39a5-4894-912a-898fffa09fdb",
   "metadata": {},
   "outputs": [
    {
     "name": "stdin",
     "output_type": "stream",
     "text": [
      "Enter first number :  2\n",
      "Enter second number :  3\n",
      "Enter third number :  4\n"
     ]
    },
    {
     "name": "stdout",
     "output_type": "stream",
     "text": [
      "Third number is grettest\n"
     ]
    }
   ],
   "source": [
    "#4. Write a Python program to determine the largest of three numbers using if-else.\n",
    "\n",
    "first_num = int(input('Enter first number : '))\n",
    "second_num = int(input('Enter second number : '))\n",
    "third_num = int(input('Enter third number : '))\n",
    "\n",
    "if first_num > second_num > third_num:\n",
    "    print('first number is grettest')\n",
    "elif second_num > first_num > third_num:\n",
    "    print('second number is grettest')\n",
    "else:\n",
    "    print('Third number is grettest')"
   ]
  },
  {
   "cell_type": "code",
   "execution_count": 15,
   "id": "9d07af7d-941f-42d1-8239-311a719b42bb",
   "metadata": {},
   "outputs": [
    {
     "name": "stdin",
     "output_type": "stream",
     "text": [
      "Enter the number :  -2.45\n"
     ]
    },
    {
     "name": "stdout",
     "output_type": "stream",
     "text": [
      "Solution =  2.45\n"
     ]
    }
   ],
   "source": [
    "#5. Write a Python program that calculates the absolute value of a number using if-else.\n",
    "\n",
    "num = eval(input('Enter the number : '))\n",
    "\n",
    "if type(num) is complex:\n",
    "    print('solution = ' , ((((num.real)**2 )+((num.imag)**2 ))**0.5))\n",
    "\n",
    "else:\n",
    "    if num<0:\n",
    "        print('Solution = ', (-1*(num)))\n",
    "    else:\n",
    "        print('Solution = ', num)"
   ]
  },
  {
   "cell_type": "code",
   "execution_count": 16,
   "id": "cf45127e-65d4-4884-8bea-fdceaef6ac07",
   "metadata": {},
   "outputs": [
    {
     "name": "stdin",
     "output_type": "stream",
     "text": [
      "Enter an alphabet :  r\n"
     ]
    },
    {
     "name": "stdout",
     "output_type": "stream",
     "text": [
      "character is a consonant\n"
     ]
    }
   ],
   "source": [
    "#6. Create a Python program that checks if a given character is a vowel or consonant using if-else.\n",
    "\n",
    "char = input('Enter an alphabet : ')\n",
    "vovels = ['a','e','i','o','u']\n",
    "if char.lower() in vovels:\n",
    "    print('character is a vowel')\n",
    "else:\n",
    "    print('character is a consonant')"
   ]
  },
  {
   "cell_type": "code",
   "execution_count": 17,
   "id": "000f22a7-92df-4d02-8a98-429b80c87d89",
   "metadata": {},
   "outputs": [
    {
     "name": "stdin",
     "output_type": "stream",
     "text": [
      "Enter the age :  56\n"
     ]
    },
    {
     "name": "stdout",
     "output_type": "stream",
     "text": [
      "You are eligible to vote\n"
     ]
    }
   ],
   "source": [
    "#7. Write a Python program to determine if a user is eligible to vote based on their age using if-else.\n",
    "\n",
    "age = int(input('Enter the age : '))\n",
    "if age >= 18:\n",
    "    print('You are eligible to vote')\n",
    "else:\n",
    "    print('You are not eligible to vote')"
   ]
  },
  {
   "cell_type": "code",
   "execution_count": 19,
   "id": "dd663f6c-445d-462b-bcd2-ca5c836fc9a4",
   "metadata": {},
   "outputs": [
    {
     "name": "stdin",
     "output_type": "stream",
     "text": [
      "Enter the purchase amounts :  6000\n"
     ]
    },
    {
     "name": "stdout",
     "output_type": "stream",
     "text": [
      "discounted price =  5700.0\n"
     ]
    }
   ],
   "source": [
    "#8. Create a Python program that calculates the discount amount based on the purchase amount using if-else\n",
    "\n",
    "\n",
    "\n",
    "\n",
    "purchase_amount =  int(input('Enter the purchase amounts : '))\n",
    "discount = 0\n",
    "\n",
    "if purchase_amount > 9000:\n",
    "    discount = 10\n",
    "\n",
    "elif 9000 >= purchase_amount > 7000:\n",
    "    discount = 8\n",
    "\n",
    "elif 7000 >= purchase_amount > 6000:\n",
    "    discount = 6\n",
    "    \n",
    "else:\n",
    "    if purchase_amount > 4000:\n",
    "        discount = 5\n",
    "\n",
    "final_amount  = purchase_amount -  (purchase_amount * (discount/100))\n",
    "\n",
    "print('discounted price = ', final_amount) "
   ]
  },
  {
   "cell_type": "code",
   "execution_count": 20,
   "id": "1eee5d7d-0add-44ab-9abb-208af21c446b",
   "metadata": {},
   "outputs": [
    {
     "name": "stdin",
     "output_type": "stream",
     "text": [
      "Enter the number :  67\n"
     ]
    },
    {
     "name": "stdout",
     "output_type": "stream",
     "text": [
      "yes\n"
     ]
    }
   ],
   "source": [
    "#9. Write a Python program to check if a number is within a specified range using if-else.\n",
    "\n",
    "#to check if number is between range 50 to 100\n",
    "a = int(input('Enter the number : '))\n",
    "if 50<a<100:\n",
    "    print('yes')\n",
    "else:\n",
    "    print('No')"
   ]
  },
  {
   "cell_type": "code",
   "execution_count": 21,
   "id": "e8c3be96-761f-44ef-b57c-b403de0c1efd",
   "metadata": {},
   "outputs": [
    {
     "name": "stdin",
     "output_type": "stream",
     "text": [
      "Enter the score :  82\n"
     ]
    },
    {
     "name": "stdout",
     "output_type": "stream",
     "text": [
      "A grade\n"
     ]
    }
   ],
   "source": [
    "#10. Create a Python program that determines the grade of a student based on their score using if-else.\n",
    "\n",
    "# 100 - 80 - A\n",
    "# 80 - 60 - B\n",
    "# 60 - 40 - C\n",
    "# below 40 -D\n",
    "\n",
    "score = int(input('Enter the score : '))\n",
    "\n",
    "if 100 >= score >40:\n",
    "    if 100 >= score > 60:\n",
    "        if 100 >= score > 80:\n",
    "            print('A grade')\n",
    "        else:\n",
    "            print('B grade')\n",
    "    else:\n",
    "        print('C grade')\n",
    "else:\n",
    "    print('D grade')"
   ]
  },
  {
   "cell_type": "code",
   "execution_count": 43,
   "id": "314f513c-1dbc-4800-adfb-9c1c58c79199",
   "metadata": {},
   "outputs": [
    {
     "name": "stdin",
     "output_type": "stream",
     "text": [
      "Enter somthing :  \n"
     ]
    },
    {
     "name": "stdout",
     "output_type": "stream",
     "text": [
      "String is empty\n"
     ]
    }
   ],
   "source": [
    "#11. Write a Python program to check if a string is empty or not using if-else.\n",
    "\n",
    "s1 = str(input('Enter somthing : '))\n",
    "if len(s1) > 1 :\n",
    "    print('Sting is not empty')\n",
    "else:\n",
    "    print('String is empty')"
   ]
  },
  {
   "cell_type": "code",
   "execution_count": 46,
   "id": "b7ad605d-a88f-4750-9b73-30c53e501f8c",
   "metadata": {},
   "outputs": [
    {
     "name": "stdin",
     "output_type": "stream",
     "text": [
      "Enter first angle :  3\n",
      "Enter second angle :  4\n",
      "Enter third angle :  5\n"
     ]
    },
    {
     "name": "stdout",
     "output_type": "stream",
     "text": [
      "scalene triangle\n"
     ]
    }
   ],
   "source": [
    "#12. Create a Python program that identifies the type of a triangle (e.g., equilateral, isosceles, or scalene) based on input values using if-else\n",
    "\n",
    "first_num = int(input('Enter first angle : '))\n",
    "second_num = int(input('Enter second angle : '))\n",
    "third_num = int(input('Enter third angle : '))\n",
    "\n",
    "if first_num == second_num != third_num or first_num == third_num != second_num or second_num == third_num != first_num :\n",
    "    print('isosceles triangle')\n",
    "elif first_num == second_num == third_num:\n",
    "    print('equilateral triangle')\n",
    "else:\n",
    "    print('scalene triangle')"
   ]
  },
  {
   "cell_type": "code",
   "execution_count": 14,
   "id": "2d521d79-0d62-4706-a20c-07875b5bc6b8",
   "metadata": {},
   "outputs": [
    {
     "name": "stdin",
     "output_type": "stream",
     "text": [
      "Enter the year :  2023\n",
      "Enter the month :  November\n",
      "Enter the date :  25\n"
     ]
    },
    {
     "name": "stdout",
     "output_type": "stream",
     "text": [
      "Saturday\n"
     ]
    }
   ],
   "source": [
    "#13. Write a Python program to determine the day of the week based on a user-provided number using if-else.\n",
    "\n",
    "year = int(input('Enter the year : '))\n",
    "month = str(input('Enter the month : '))\n",
    "date = int(input('Enter the date : '))\n",
    "\n",
    "if month.lower() in ['january','february','march','april','may','june','july','august','september','october','november','december']:\n",
    "\n",
    "    if year % 4 == 0:\n",
    "        if month.lower() == 'january' :\n",
    "            days = 31\n",
    "            magic_number = 6\n",
    "        elif month.lower() == 'february' :\n",
    "            days = 29\n",
    "            magic_number = 2\n",
    "        elif month.lower() == 'march' :\n",
    "            days = 31\n",
    "            magic_number = 3\n",
    "        elif month.lower() == 'april' :\n",
    "            days = 30\n",
    "            magic_number = 6\n",
    "        elif month.lower() == 'may' :\n",
    "            days = 31\n",
    "            magic_number = 1\n",
    "        elif month.lower() == 'june' :\n",
    "            days = 30\n",
    "            magic_number = 4\n",
    "        elif month.lower() == 'july' :\n",
    "            days = 31\n",
    "            magic_number = 6\n",
    "        elif month.lower() == 'august' :\n",
    "            days = 31\n",
    "            magic_number = 2\n",
    "        elif month.lower() == 'september' :\n",
    "            days = 30\n",
    "            magic_number = 5\n",
    "        elif month.lower() == 'october' :\n",
    "            days = 31\n",
    "            magic_number = 0\n",
    "        elif month.lower() == 'november' :\n",
    "            days = 30\n",
    "            magic_number = 3\n",
    "        elif month.lower() == 'december' :\n",
    "            days = 31\n",
    "            magic_number = 5\n",
    "        \n",
    "\n",
    "\n",
    "\n",
    "    else:\n",
    "        if month.lower() == 'january' :\n",
    "            days = 31\n",
    "            magic_number = 0\n",
    "        elif month.lower() == 'february' :\n",
    "            days = 28\n",
    "            magic_number = 3\n",
    "        elif month.lower() == 'march' :\n",
    "            days = 31\n",
    "            magic_number = 3\n",
    "        elif month.lower() == 'april' :\n",
    "            days = 30\n",
    "            magic_number = 6\n",
    "        elif month.lower() == 'may' :\n",
    "            days = 31\n",
    "            magic_number = 1\n",
    "        elif month.lower() == 'june' :\n",
    "            days = 30\n",
    "            magic_number = 4\n",
    "        elif month.lower() == 'july' :\n",
    "            days = 31\n",
    "            magic_number = 6\n",
    "        elif month.lower() == 'august' :\n",
    "            days = 31\n",
    "            magic_number = 2\n",
    "        elif month.lower() == 'september' :\n",
    "            days = 30\n",
    "            magic_number = 5\n",
    "        elif month.lower() == 'october' :\n",
    "            days = 31\n",
    "            magic_number = 0\n",
    "        elif month.lower() == 'november' :\n",
    "            days = 30\n",
    "            magic_number = 3\n",
    "        elif month.lower() == 'december' :\n",
    "            days = 31\n",
    "            magic_number = 5\n",
    "\n",
    "\n",
    "\n",
    "\n",
    "    #step2- Calculating year corrosponcence\n",
    "\n",
    "    if (year // 100)%4 == 0:\n",
    "        YC = 6\n",
    "    elif (year // 100)%4 == 1:\n",
    "        YC = 4 \n",
    "    elif (year // 100)%4 == 2:\n",
    "        YC = 2\n",
    "    elif (year // 100)%4 == 3:\n",
    "        YC = 0\n",
    "\n",
    "    #step 3- last two digits/4\n",
    "\n",
    "    LT = (year%100)\n",
    "\n",
    "    QLT = (LT/4)//1\n",
    "\n",
    "\n",
    "    #step 4- adding all the numbers \n",
    "\n",
    "    value = date+magic_number+YC+QLT+LT\n",
    "\n",
    "    #step 5\n",
    "\n",
    "    fvalue = (value%7)\n",
    "    \n",
    "    if fvalue <= 0:\n",
    "        print('Sunday')\n",
    "    elif fvalue == 1:\n",
    "        print('Monday')\n",
    "    elif fvalue == 2:\n",
    "        print('Tuesday')\n",
    "    elif fvalue == 3:\n",
    "        print('Wednesday')\n",
    "    elif fvalue == 4:\n",
    "        print('Thursday')\n",
    "    elif fvalue == 5:\n",
    "        print('Friday')\n",
    "    elif fvalue == 6:\n",
    "        print('Saturday')\n",
    "            \n",
    "else:\n",
    "    print('Invalid Input')\n",
    "\n"
   ]
  },
  {
   "cell_type": "code",
   "execution_count": 15,
   "id": "8b992ee3-857d-4145-8eb1-99e6f489bc3d",
   "metadata": {},
   "outputs": [
    {
     "name": "stdin",
     "output_type": "stream",
     "text": [
      "Enter the year :  2023\n"
     ]
    },
    {
     "name": "stdout",
     "output_type": "stream",
     "text": [
      "NO\n"
     ]
    }
   ],
   "source": [
    "#14. Create a Python program that checks if a given year is a leap year using both if-else and a function.\n",
    "\n",
    "\n",
    "year = int(input('Enter the year : '))\n",
    "if year % 4 == 0:\n",
    "    print('yes')\n",
    "else:\n",
    "    print('NO')\n"
   ]
  },
  {
   "cell_type": "code",
   "execution_count": 1,
   "id": "81ff75e9-0d1f-471d-954f-13b9a02cfa23",
   "metadata": {},
   "outputs": [
    {
     "ename": "AssertionError",
     "evalue": "x should be a positive number",
     "output_type": "error",
     "traceback": [
      "\u001b[0;31m---------------------------------------------------------------------------\u001b[0m",
      "\u001b[0;31mAssertionError\u001b[0m                            Traceback (most recent call last)",
      "Cell \u001b[0;32mIn[1], line 11\u001b[0m\n\u001b[1;32m      9\u001b[0m     \u001b[38;5;28mprint\u001b[39m(\u001b[38;5;124m\"\u001b[39m\u001b[38;5;124mx is a positive even number\u001b[39m\u001b[38;5;124m\"\u001b[39m)\n\u001b[1;32m     10\u001b[0m \u001b[38;5;28;01melse\u001b[39;00m:\n\u001b[0;32m---> 11\u001b[0m     \u001b[38;5;28;01massert\u001b[39;00m x \u001b[38;5;241m>\u001b[39m \u001b[38;5;241m0\u001b[39m, \u001b[38;5;124m\"\u001b[39m\u001b[38;5;124mx should be a positive number\u001b[39m\u001b[38;5;124m\"\u001b[39m\n\u001b[1;32m     12\u001b[0m     \u001b[38;5;28mprint\u001b[39m(\u001b[38;5;124m\"\u001b[39m\u001b[38;5;124mx is not a positive number\u001b[39m\u001b[38;5;124m\"\u001b[39m)\n",
      "\u001b[0;31mAssertionError\u001b[0m: x should be a positive number"
     ]
    }
   ],
   "source": [
    "#15. How do you use the \"assert\" statement in Python to add debugging checks within if-else blocks?\n",
    "\n",
    "#syntax - assert expression[, message]\n",
    "\n",
    "x = -10\n",
    "\n",
    "if x > 0:\n",
    "    assert x % 2 == 0, \"x should be an even number\"\n",
    "    print(\"x is a positive even number\")\n",
    "else:\n",
    "    assert x > 0, \"x should be a positive number\"\n",
    "    print(\"x is not a positive number\")\n",
    "\n"
   ]
  },
  {
   "cell_type": "code",
   "execution_count": 26,
   "id": "f29ed129-b3ac-4c36-92bc-68a324755fc1",
   "metadata": {},
   "outputs": [
    {
     "name": "stdin",
     "output_type": "stream",
     "text": [
      "Enter your age :  77\n"
     ]
    },
    {
     "name": "stdout",
     "output_type": "stream",
     "text": [
      "You are elegible for a senior citizen discount. \n"
     ]
    }
   ],
   "source": [
    "#16. Create a Python program that determines the eligibility of a person for a senior citizen discount based on age using if-else.\n",
    "\n",
    "age= int(input('Enter your age : '))\n",
    "\n",
    "if age < 60 :\n",
    "    print('You are not elegible for a senior citizen discount. ')\n",
    "else:\n",
    "    print('You are elegible for a senior citizen discount. ')\n",
    "\n",
    "    "
   ]
  },
  {
   "cell_type": "code",
   "execution_count": 1,
   "id": "44fd1433-8fdf-400f-8e7b-76248d77c597",
   "metadata": {},
   "outputs": [
    {
     "name": "stdin",
     "output_type": "stream",
     "text": [
      "Enter any character :  F\n"
     ]
    },
    {
     "name": "stdout",
     "output_type": "stream",
     "text": [
      "Uppercase\n"
     ]
    }
   ],
   "source": [
    "#17. Write a Python program to categorize a given character as uppercase, lowercase, or neither using if-else.\n",
    "\n",
    "char = input('Enter any character : ')\n",
    "\n",
    "if char.isalpha():\n",
    "    if char.islower():\n",
    "        print('Lowercase')\n",
    "    else:\n",
    "        print('Uppercase')\n",
    "else:\n",
    "    print('Nither')"
   ]
  },
  {
   "cell_type": "code",
   "execution_count": 2,
   "id": "950f6a4a-e189-4deb-bb94-0bdbdbb33c56",
   "metadata": {},
   "outputs": [
    {
     "name": "stdout",
     "output_type": "stream",
     "text": [
      "ax^2 + bx + c\n"
     ]
    },
    {
     "name": "stdin",
     "output_type": "stream",
     "text": [
      "Enter the value of a for the above equation :  2\n",
      "Enter the value of b for the above equation :  3\n",
      "Enter the value of c for the above equation :  4\n"
     ]
    },
    {
     "name": "stdout",
     "output_type": "stream",
     "text": [
      "roots are (-0.7499999999999999+1.1989578808281798j)and(-0.7500000000000001-1.1989578808281798j)\n"
     ]
    }
   ],
   "source": [
    "# 18. Write a Python program to determine the roots of a quadratic equation using if-else.\n",
    "\n",
    "\n",
    "print(\"ax^2 + bx + c\")\n",
    "a = int(input('Enter the value of a for the above equation : '))\n",
    "b = int(input('Enter the value of b for the above equation : '))\n",
    "c = int(input('Enter the value of c for the above equation : '))\n",
    "\n",
    "x1 = (-b + ((b**2)-(4*a*c))**0.5)/(2*a)\n",
    "x2 = (-b - ((b**2)-(4*a*c))**0.5)/(2*a)\n",
    "\n",
    "print('roots are', str((x1)) +'and'+str((x2)))"
   ]
  },
  {
   "cell_type": "code",
   "execution_count": 7,
   "id": "44b78a8e-656e-456e-a77d-a866dd82605e",
   "metadata": {},
   "outputs": [
    {
     "name": "stdin",
     "output_type": "stream",
     "text": [
      "Enter the year :  2020\n"
     ]
    },
    {
     "name": "stdout",
     "output_type": "stream",
     "text": [
      "Entered year is not century year\n"
     ]
    }
   ],
   "source": [
    "#19. Create a Python program that checks if a given year is a century year or not using if-else.\n",
    "\n",
    "\n",
    "year = int(input('Enter the year : '))\n",
    "\n",
    "if year%100 ==0:\n",
    "    print('Entered year is a century year')\n",
    "else:\n",
    "    print('Entered year is not century year')"
   ]
  },
  {
   "cell_type": "code",
   "execution_count": 11,
   "id": "2df7512a-42b9-4208-9974-e5de62829064",
   "metadata": {},
   "outputs": [
    {
     "name": "stdin",
     "output_type": "stream",
     "text": [
      "Enter the number :  50\n"
     ]
    },
    {
     "name": "stdout",
     "output_type": "stream",
     "text": [
      "No, the number is not perfect square\n"
     ]
    }
   ],
   "source": [
    "#20. Write a Python program to determine if a given number is a perfect square using if-else.\n",
    "\n",
    "import math\n",
    "square = int(input('Enter the number : '))\n",
    "square_rt = math.sqrt(square)\n",
    "if square_rt.is_integer():\n",
    "    print('yes, the number is perfect square')\n",
    "else:\n",
    "    print('No, the number is not perfect square')"
   ]
  },
  {
   "cell_type": "code",
   "execution_count": 14,
   "id": "96a4cb32-c348-4269-925d-a287b4e15c7d",
   "metadata": {},
   "outputs": [
    {
     "name": "stdout",
     "output_type": "stream",
     "text": [
      "we dont have  \"continue\" and \"break\" statements within if-else loops, it is used for skipping and breaking the itteration in FOR and While loop.\n"
     ]
    }
   ],
   "source": [
    "#21. Explain the purpose of the \"continue\" and \"break\" statements within if-else loops.\n",
    "print('we dont have  \"continue\" and \"break\" statements within if-else loops, it is used for skipping and breaking the itteration in FOR and While loop.')\n",
    "\n"
   ]
  },
  {
   "cell_type": "code",
   "execution_count": 15,
   "id": "f8862a30-0a68-4e03-8abe-a25d731fac68",
   "metadata": {},
   "outputs": [
    {
     "name": "stdin",
     "output_type": "stream",
     "text": [
      "Enter your weight in KG :  82\n",
      "Enter your height in meter :  2.33\n"
     ]
    },
    {
     "name": "stdout",
     "output_type": "stream",
     "text": [
      "Your BMI is =  15.104348947300556\n",
      " You are underweight\n"
     ]
    }
   ],
   "source": [
    "#22. Create a Python program that calculates the BMI (Body Mass Index) of a person based on their weight and height using if-else.\n",
    "\n",
    "\n",
    "\n",
    "weight = float(input('Enter your weight in KG : '))\n",
    "height = float(input('Enter your height in meter : '))\n",
    "BMI = (weight/(height**2))\n",
    "print('Your BMI is = ',BMI)\n",
    "\n",
    "if BMI <= 18.5 :\n",
    "    print(' You are underweight')\n",
    "elif 18.5 < BMI <= 25.9 :\n",
    "    print('You are Normal')\n",
    "elif 25.0 <BMI<=29.9:\n",
    "    print('You are Overweight')\n",
    "elif BMI >= 30.0:\n",
    "    print('You are Very Overweight')"
   ]
  },
  {
   "cell_type": "code",
   "execution_count": 28,
   "id": "8b5b1d4a-059e-4c10-8194-92a7e1aa5302",
   "metadata": {},
   "outputs": [
    {
     "data": {
      "text/plain": [
       "[2, 4, 6, 8]"
      ]
     },
     "execution_count": 28,
     "metadata": {},
     "output_type": "execute_result"
    }
   ],
   "source": [
    "#23. How can you use the \"filter()\" function with if-else statements to filter elements from a list?\n",
    "\n",
    "list_1 = [1,2,3,4,5,6,7,8]\n",
    "list_2 = []\n",
    "def even(a):\n",
    "    if a%2==0:\n",
    "        return a\n",
    "    else:\n",
    "        pass\n",
    "    \n",
    "filtered = list(filter(even,list_1))\n",
    "\n",
    "filtered\n"
   ]
  },
  {
   "cell_type": "code",
   "execution_count": 29,
   "id": "5e675cbf-2dcf-4595-9a67-5682a5c1e98d",
   "metadata": {},
   "outputs": [
    {
     "name": "stdin",
     "output_type": "stream",
     "text": [
      "Enter the number :  34\n"
     ]
    },
    {
     "name": "stdout",
     "output_type": "stream",
     "text": [
      "Not prime\n"
     ]
    }
   ],
   "source": [
    "#24. Write a Python program to determine if a given number is prime or not using if-else.\n",
    "\n",
    "num = int(input('Enter the number : '))\n",
    "\n",
    "for x in range(2,num+1):\n",
    "    if num % x == 0:\n",
    "            break\n",
    "if num == x:\n",
    "    print('Prime')\n",
    "else:\n",
    "    print('Not prime')"
   ]
  },
  {
   "cell_type": "code",
   "execution_count": null,
   "id": "6720813f-dec5-48fa-83f2-af658ab017a6",
   "metadata": {},
   "outputs": [],
   "source": []
  },
  {
   "cell_type": "markdown",
   "id": "fd609fac-1a8a-418b-bab0-b3ccf4e01e68",
   "metadata": {},
   "source": [
    "Map :-"
   ]
  },
  {
   "cell_type": "code",
   "execution_count": null,
   "id": "38731ca7-aba1-42b1-a48b-b819738ad2c8",
   "metadata": {},
   "outputs": [],
   "source": []
  },
  {
   "cell_type": "markdown",
   "id": "00861c7b-cb50-4f8f-87b5-3d0b37829233",
   "metadata": {},
   "source": [
    "'''1. Explain the purpose of the `map()` function in Python and provide an example of how it can be used to apply a function to each element of an iterable.\n",
    "Ans - The map() function in Python is a built-in function that is used to apply a specified function to all items in an iterable (e.g., a list, tuple, or string) and return an iterator that produces the results. The basic syntax of the map() function is: \n",
    "\n",
    "map(function, iterable, ...)\n",
    "\n"
   ]
  },
  {
   "cell_type": "code",
   "execution_count": 4,
   "id": "339121e9-7500-483f-b65a-57975a8c3bfd",
   "metadata": {},
   "outputs": [
    {
     "name": "stdout",
     "output_type": "stream",
     "text": [
      "[1, 8, 27, 64, 125]\n"
     ]
    }
   ],
   "source": [
    "l1 = [1,2,3,4,5]\n",
    "def cube(x):\n",
    "    return x**3\n",
    "\n",
    "cube_of_l1 = list(map(cube,l1))\n",
    "print(cube_of_l1)"
   ]
  },
  {
   "cell_type": "code",
   "execution_count": 5,
   "id": "d496248c-7cee-4332-9841-6f4812f3c254",
   "metadata": {},
   "outputs": [
    {
     "name": "stdout",
     "output_type": "stream",
     "text": [
      "[1, 4, 9, 16, 25]\n"
     ]
    }
   ],
   "source": [
    "#2. Write a Python program that uses the `map()` function to square each element of a list of numbers.\n",
    "\n",
    "l1 = [1,2,3,4,5]\n",
    "def square(x):\n",
    "    return x**2\n",
    "\n",
    "square_of_l1 = list(map(square,l1))\n",
    "print(square_of_l1)"
   ]
  },
  {
   "cell_type": "markdown",
   "id": "6c6feb88-02ef-435e-b901-0f9e0f5bce3c",
   "metadata": {},
   "source": [
    "#3. How does the `map()` function differ from a list comprehension in Python, and when would you choose one over the other?\n",
    "\n",
    "------->\n",
    "\n",
    "When to Choose map() over List Comprehension, and Vice Versa:\n",
    "\n",
    "Readability:\n",
    "map() function:\n",
    "Suitable when applying a specific function to each element is the primary concern. It may be more readable when the transformation logic is complex.\n",
    "List comprehension:\n",
    "Preferred when the transformation logic is simple and can be expressed concisely in a single line.\n",
    "\n",
    "Function Application:\n",
    "map() function:\n",
    "Useful when you have a pre-defined function that you want to apply to each element of an iterable.\n",
    "List comprehension:\n",
    "More flexible when the transformation logic is short and can be directly expressed within the comprehension.\n",
    "\n",
    "Memory Usage:\n",
    "map() function:\n",
    "Produces an iterator, which can be more memory-efficient for large datasets since it generates values one at a time.\n",
    "List comprehension:\n",
    "Generates a new list in memory, which might be less efficient for large datasets.\n",
    "\n",
    "Lazy Evaluation:\n",
    "map() function:\n",
    "Uses lazy evaluation, meaning it generates values on demand. It doesn't compute all results at once.\n",
    "List comprehension:\n",
    "Computes all values at once and creates a new list in memory."
   ]
  },
  {
   "cell_type": "code",
   "execution_count": 10,
   "id": "a5117466-bf48-41be-9b2b-72c57b71fad9",
   "metadata": {},
   "outputs": [
    {
     "name": "stdout",
     "output_type": "stream",
     "text": [
      "['PW', 'SKILLS', 'HRISHIKESH', 'INGOLE']\n"
     ]
    }
   ],
   "source": [
    "#4. Create a Python program that uses the `map()` function to convert a list of names to uppercase.\n",
    "\n",
    "list_names = ['pw', 'skills', 'hrishikesh', 'ingole']\n",
    "\n",
    "def uppercase(x):\n",
    "    return x.upper()\n",
    "\n",
    "list_upper = list(map(uppercase,list_names))\n",
    "print(list_upper)"
   ]
  },
  {
   "cell_type": "code",
   "execution_count": 11,
   "id": "80f6eebd-40bd-4c63-a676-15d5f72a9b21",
   "metadata": {},
   "outputs": [
    {
     "name": "stdout",
     "output_type": "stream",
     "text": [
      "[2, 6, 10, 6]\n"
     ]
    }
   ],
   "source": [
    "#5. Write a Python program that uses the `map()` function to calculate the length of each word in a list of strings\n",
    "\n",
    "list_names = ['pw', 'skills', 'hrishikesh', 'ingole']\n",
    "\n",
    "def length_cal(x):\n",
    "    return len(x)\n",
    "\n",
    "list_lenght = list(map(length_cal,list_names))\n",
    "print(list_lenght)"
   ]
  },
  {
   "cell_type": "code",
   "execution_count": 13,
   "id": "7700a268-31bc-4dba-9419-e931419d9271",
   "metadata": {},
   "outputs": [
    {
     "name": "stdout",
     "output_type": "stream",
     "text": [
      "[6, 8, 10, 12]\n"
     ]
    }
   ],
   "source": [
    "#6. How can you use the `map()` function to apply a custom function to elements of multiple lists simultaneously in Python?\n",
    "map\n",
    "def add(x,y):\n",
    "    return (x+y)\n",
    "list_1 = [1,2,3,4]\n",
    "list_2 = [5,6,7,8]\n",
    "\n",
    "add_list = list(map(add,list_1,list_2))\n",
    "print(add_list)"
   ]
  },
  {
   "cell_type": "code",
   "execution_count": 14,
   "id": "202ee782-5650-485c-a375-0d6999d70ba1",
   "metadata": {},
   "outputs": [
    {
     "name": "stdout",
     "output_type": "stream",
     "text": [
      "[212.0, 219.20000000000002, 221.0, 428.0]\n"
     ]
    }
   ],
   "source": [
    "#7. Create a Python program that uses `map()` to convert a list of temperatures from Celsius to Fahrenheit.\n",
    "\n",
    "def converter(x):\n",
    "    return ((x*(9/5))+32)\n",
    "list_celsius = [100,104,105,220]\n",
    "\n",
    "list_Fahrenheit = list(map(converter,list_celsius))\n",
    "print(list_Fahrenheit)"
   ]
  },
  {
   "cell_type": "code",
   "execution_count": 15,
   "id": "446be47b-77dd-4a99-a4ad-d0f81c314c2e",
   "metadata": {},
   "outputs": [
    {
     "name": "stdout",
     "output_type": "stream",
     "text": [
      "[10, 3, 7, 8]\n"
     ]
    }
   ],
   "source": [
    "#8. Write a Python program that uses the `map()` function to round each element of a list of floating-point numbers to the nearest integer.\n",
    "\n",
    "list_1 = [10.345, 3.456,6.9,7.89]\n",
    "\n",
    "def roundoff(x):\n",
    "    return round(x)\n",
    "\n",
    "print(list(map(roundoff,list_1)))\n"
   ]
  },
  {
   "cell_type": "code",
   "execution_count": null,
   "id": "270b06d0-25e3-4799-b5e3-5cc6b788e4f2",
   "metadata": {},
   "outputs": [],
   "source": []
  },
  {
   "cell_type": "markdown",
   "id": "58a3bcf0-a274-4a18-8a4c-f4b78a262347",
   "metadata": {},
   "source": [
    "Reduce"
   ]
  },
  {
   "cell_type": "code",
   "execution_count": null,
   "id": "bd65ca3d-5846-4168-8653-56598dac52d9",
   "metadata": {},
   "outputs": [],
   "source": []
  },
  {
   "cell_type": "markdown",
   "id": "a2601ab9-219c-4eaa-8c57-7a33cf83b87d",
   "metadata": {},
   "source": [
    "#1. What is the `reduce()` function in Python, and what module should you import to use it? Provide an example of its basic usage.\n",
    "\n",
    "\n",
    "reduce() is a predefined function, It is a binary function which takes 2 arguments in a function. It is imported from functools.\n",
    "It helps to reduce the itterables to single value.\n"
   ]
  },
  {
   "cell_type": "code",
   "execution_count": 17,
   "id": "7ca90226-d966-4900-b5c9-394bb5d699b0",
   "metadata": {},
   "outputs": [
    {
     "name": "stdout",
     "output_type": "stream",
     "text": [
      "10\n"
     ]
    }
   ],
   "source": [
    "#example \n",
    "\n",
    "from functools import reduce\n",
    "\n",
    "def add(x,y):\n",
    "    return (x+y)\n",
    "\n",
    "list_numbers = [1,2,3,4]\n",
    "\n",
    "addition = reduce(add,list_numbers)\n",
    "\n",
    "print(addition)\n"
   ]
  },
  {
   "cell_type": "code",
   "execution_count": 18,
   "id": "80b4ae73-c9b3-4129-9722-3d315d691ced",
   "metadata": {},
   "outputs": [
    {
     "name": "stdout",
     "output_type": "stream",
     "text": [
      "24\n"
     ]
    }
   ],
   "source": [
    "#2. Write a Python program that uses the `reduce()` function to find the product of all elements in a list.\n",
    "\n",
    "\n",
    "from functools import reduce\n",
    "\n",
    "def multiply(x,y):\n",
    "    return (x*y)\n",
    "\n",
    "list_numbers = [1,2,3,4]\n",
    "\n",
    "product = reduce(multiply,list_numbers)\n",
    "\n",
    "print(product)"
   ]
  },
  {
   "cell_type": "code",
   "execution_count": 19,
   "id": "7dc6ac4f-5a56-4595-ab6b-ec0072746129",
   "metadata": {},
   "outputs": [
    {
     "name": "stdout",
     "output_type": "stream",
     "text": [
      "6\n"
     ]
    }
   ],
   "source": [
    "#3. Create a Python program that uses `reduce()` to find the maximum element in a list of numbers.\n",
    "\n",
    "\n",
    "from functools import reduce\n",
    "\n",
    "def maximum(x,y):\n",
    "    return max(x,y)\n",
    "\n",
    "list_numbers = [1,5,3,2,6,4]\n",
    "\n",
    "max_num = reduce(maximum,list_numbers)\n",
    "\n",
    "print(max_num)"
   ]
  },
  {
   "cell_type": "code",
   "execution_count": 20,
   "id": "dbe2fec7-377d-4f99-b476-547e6443df66",
   "metadata": {},
   "outputs": [
    {
     "name": "stdout",
     "output_type": "stream",
     "text": [
      "pwskillshrishikeshingole\n"
     ]
    }
   ],
   "source": [
    "#4. How can you use the `reduce()` function to concatenate a list of strings into a single string?\n",
    "\n",
    "\n",
    "from functools import reduce\n",
    "\n",
    "def concatinate_names(x,y):\n",
    "    return (x+y)\n",
    "\n",
    "list_names = ['pw', 'skills', 'hrishikesh', 'ingole']\n",
    "\n",
    "post_con = reduce(concatinate_names,list_names)\n",
    "\n",
    "print(post_con)"
   ]
  },
  {
   "cell_type": "code",
   "execution_count": 28,
   "id": "cc3a1d87-9e44-4ffe-8f6a-223935dc9cee",
   "metadata": {},
   "outputs": [
    {
     "name": "stdin",
     "output_type": "stream",
     "text": [
      "Enter the number :  6\n"
     ]
    },
    {
     "name": "stdout",
     "output_type": "stream",
     "text": [
      "720\n"
     ]
    }
   ],
   "source": [
    "#5. Write a Python program that calculates the factorial of a number using the `reduce()` function.\n",
    "\n",
    "def factorial(x,y):\n",
    "    return x*y\n",
    "\n",
    "list_1 = []\n",
    "        \n",
    "number = int(input('Enter the number : '))\n",
    "\n",
    "for x in range(1,number+1):\n",
    "    list_1.append(x)\n",
    "\n",
    "\n",
    "fact = reduce(factorial,list_1)\n",
    "print(fact)"
   ]
  },
  {
   "cell_type": "code",
   "execution_count": 30,
   "id": "f7cee9d5-d01d-4ab7-9e4a-f930a102309b",
   "metadata": {},
   "outputs": [
    {
     "name": "stdout",
     "output_type": "stream",
     "text": [
      "10\n"
     ]
    }
   ],
   "source": [
    "#6. Create a Python program that uses `reduce()` to find the GCD (Greatest Common Divisor) of a list of numbers.\n",
    "\n",
    "list_number = [200,400,330]\n",
    "\n",
    "def GCD_cal(a,b):\n",
    "    if a > b:\n",
    "        temp = a\n",
    "    else:\n",
    "        temp = b\n",
    "    for i in range(1, temp + 1):  \n",
    "        if (( a % i == 0) and (b % i == 0 )):  \n",
    "            gcd = i  \n",
    "    return gcd\n",
    "\n",
    "GCD  = reduce(GCD_cal,list_number) \n",
    "print(GCD)"
   ]
  },
  {
   "cell_type": "code",
   "execution_count": 33,
   "id": "352a1241-b553-4f52-ba02-9cec85a257a8",
   "metadata": {},
   "outputs": [
    {
     "name": "stdin",
     "output_type": "stream",
     "text": [
      "Enter the number  12345\n"
     ]
    },
    {
     "name": "stdout",
     "output_type": "stream",
     "text": [
      "12345\n"
     ]
    }
   ],
   "source": [
    "#7. Write a Python program that uses the `reduce()` function to find the sum of the digits of a given number.\n",
    "\n",
    "from functools import reduce\n",
    "\n",
    "def add(x,y):\n",
    "    return (x+y)\n",
    "\n",
    "list_numbers = str(input('Enter the number ')).split()\n",
    "\n",
    "addition = reduce(add,list_numbers)\n",
    "\n",
    "print(addition)"
   ]
  },
  {
   "cell_type": "code",
   "execution_count": 12,
   "id": "be7ebd8d-8739-4867-9e53-801c8d874537",
   "metadata": {},
   "outputs": [
    {
     "name": "stdin",
     "output_type": "stream",
     "text": [
      "Enter the number  1234\n"
     ]
    },
    {
     "name": "stdout",
     "output_type": "stream",
     "text": [
      "10\n"
     ]
    }
   ],
   "source": [
    "from functools import reduce\n",
    "\n",
    "list_1 = []\n",
    "number_list = str(input('Enter the number '))\n",
    "for x in number_list :\n",
    "    list_1.append(int(x))\n",
    "    \n",
    "def add(x,y):\n",
    "    return (x+y)\n",
    "\n",
    "addition = reduce(add,list_1)\n",
    "\n",
    "print(addition)"
   ]
  },
  {
   "cell_type": "code",
   "execution_count": null,
   "id": "69ef5a30-c3e5-4c18-9291-1577f91d9a1e",
   "metadata": {},
   "outputs": [],
   "source": []
  },
  {
   "cell_type": "markdown",
   "id": "67182c18-b2e5-462c-8683-7347876dc801",
   "metadata": {},
   "source": [
    "Filter"
   ]
  },
  {
   "cell_type": "code",
   "execution_count": null,
   "id": "aee82ac8-2bdd-443b-adb4-1ea28b51ba1e",
   "metadata": {},
   "outputs": [],
   "source": []
  },
  {
   "cell_type": "markdown",
   "id": "9739bf60-6392-4077-b811-fa535271887c",
   "metadata": {},
   "source": [
    "#1.The purpose of the `filter()` function in Python and provide an example of how it can be used to filter elements from an iterable\n",
    "\n",
    "The filter() function in Python is a built-in function that is used to filter elements from an iterable based on a specified function or condition. It takes two arguments.\n"
   ]
  },
  {
   "cell_type": "code",
   "execution_count": 40,
   "id": "cd09d661-01f3-4120-8ac3-98fbd1cd1fd2",
   "metadata": {},
   "outputs": [
    {
     "name": "stdout",
     "output_type": "stream",
     "text": [
      "[4, 8, 12, 16]\n"
     ]
    }
   ],
   "source": [
    "#Example\n",
    "\n",
    "#to find the multiple of 4 in list.\n",
    "\n",
    "def find_mul_of_4(x):\n",
    "    if x % 4 ==0 :\n",
    "        return x\n",
    "list_1 = [1,2,3,4,5,6,7,8,89,10,11,12,13,14,15,16]\n",
    "\n",
    "filtered_numbers = list(filter(find_mul_of_4,list_1))\n",
    "print(filtered_numbers)"
   ]
  },
  {
   "cell_type": "code",
   "execution_count": 41,
   "id": "6396def2-8bd7-4482-8795-ba735d00606b",
   "metadata": {},
   "outputs": [
    {
     "name": "stdout",
     "output_type": "stream",
     "text": [
      "[2, 4, 6, 8, 10, 12, 14, 16]\n"
     ]
    }
   ],
   "source": [
    "#2. Write a Python program that uses the `filter()` function to select even numbers from a list of integers.\n",
    "\n",
    "\n",
    "def find_even(x):\n",
    "    if x % 2 ==0 :\n",
    "        return x\n",
    "list_1 = [1,2,3,4,5,6,7,8,89,10,11,12,13,14,15,16]\n",
    "\n",
    "filtered_even_numbers = list(filter(find_even,list_1))\n",
    "print(filtered_even_numbers)"
   ]
  },
  {
   "cell_type": "code",
   "execution_count": 43,
   "id": "2eac4aee-e046-4d27-8fbf-5e30544eb8d7",
   "metadata": {},
   "outputs": [
    {
     "name": "stdout",
     "output_type": "stream",
     "text": [
      "['Hrishi', 'harish', 'hemant']\n"
     ]
    }
   ],
   "source": [
    "#3. Create a Python program that uses the `filter()` function to select names that start with a specific letter from a list of strings.\n",
    "\n",
    "def find_name(x):\n",
    "    if x[0].lower() == 'h':\n",
    "        return x\n",
    "list_names = ['Hrishi','nimish','harish','piyush','hemant']\n",
    "\n",
    "filtered_find_name = list(filter(find_name,list_names))\n",
    "print(filtered_find_name)\n"
   ]
  },
  {
   "cell_type": "code",
   "execution_count": 78,
   "id": "7a1329db-bbbb-4ce6-90f3-0d8efff522cd",
   "metadata": {},
   "outputs": [
    {
     "data": {
      "text/plain": [
       "[5, 7, 11, 13]"
      ]
     },
     "execution_count": 78,
     "metadata": {},
     "output_type": "execute_result"
    }
   ],
   "source": [
    "#4. Write a Python program that uses the `filter()` function to select prime numbers from a list of integers.\n",
    "\n",
    "list_1 = [5,6,7,8,9,10,11,12,13,14,15,16]\n",
    "def find_prime(n):\n",
    "    if n < 2:\n",
    "        return False\n",
    "    for i in range(2, int(n**0.5) + 1):\n",
    "        if n % i == 0:\n",
    "            return False\n",
    "    return True\n",
    "\n",
    "\n",
    "filtered_prime_numbers = list(filter(find_prime,list_1))\n",
    "filtered_prime_numbers"
   ]
  },
  {
   "cell_type": "code",
   "execution_count": 83,
   "id": "eaa1d2b4-0b74-48d3-bc95-9babde9574e5",
   "metadata": {},
   "outputs": [
    {
     "name": "stdout",
     "output_type": "stream",
     "text": [
      "['Hrishi', 'nimish', 'piyush', 'hemant']\n"
     ]
    }
   ],
   "source": [
    "#5. How can you use the `filter()` function to remove None values from a list in Python?\n",
    "\n",
    "def find_none(x):\n",
    "    if x != None:\n",
    "        return x\n",
    "list_names = ['Hrishi','nimish',None,'piyush','hemant',None]\n",
    "\n",
    "filtered_find_name = list(filter(find_none,list_names))\n",
    "print(filtered_find_name)"
   ]
  },
  {
   "cell_type": "code",
   "execution_count": 89,
   "id": "152f9b55-3d0e-47d4-874a-952d3b50078d",
   "metadata": {},
   "outputs": [
    {
     "name": "stdout",
     "output_type": "stream",
     "text": [
      "['harish', 'piyu', 'hemant']\n"
     ]
    }
   ],
   "source": [
    "#6. Create a Python program that uses `filter()` to select words longer than a certain length from a list of strings.\n",
    "\n",
    "def find_len(x):\n",
    "    if len(x) <= 6 :\n",
    "        return x\n",
    "list_names = ['Hrishikesh','nimishit','harish','piyu','hemant']\n",
    "\n",
    "filtered_find_name = list(filter(find_len,list_names))\n",
    "print(filtered_find_name)"
   ]
  },
  {
   "cell_type": "code",
   "execution_count": 90,
   "id": "1953cd42-3e72-4946-9e30-800a3810a7e2",
   "metadata": {},
   "outputs": [
    {
     "name": "stdout",
     "output_type": "stream",
     "text": [
      "[6, 7, 8, 9, 10]\n"
     ]
    }
   ],
   "source": [
    "#7. Write a Python program that uses the `filter()` function to select elements greater than a specified threshold from a list of values.\n",
    "\n",
    "\n",
    "def find_value(x):\n",
    "    if x > 5 :\n",
    "        return x\n",
    "list_num = [1,2,3,4,5,6,7,8,9,10]\n",
    "\n",
    "\n",
    "filtered_find_num = list(filter(find_value,list_num))\n",
    "print(filtered_find_num)"
   ]
  },
  {
   "cell_type": "code",
   "execution_count": null,
   "id": "2eccb4da-e416-42b0-bc12-d3382a312f66",
   "metadata": {},
   "outputs": [],
   "source": []
  },
  {
   "cell_type": "markdown",
   "id": "282dea7c-c350-4bb4-899c-6f5882a6a4e2",
   "metadata": {},
   "source": [
    "RecursionRecursion"
   ]
  },
  {
   "cell_type": "code",
   "execution_count": null,
   "id": "d76bbfb3-5f58-4e35-b388-de7c595954cf",
   "metadata": {},
   "outputs": [],
   "source": []
  },
  {
   "cell_type": "markdown",
   "id": "afeaf41a-02a5-4752-a411-3c30e9ec9417",
   "metadata": {},
   "source": [
    "#1. Explain the concept of recursion in Python. How does it differ from iteration?\n",
    "\n",
    "Recursion and iteration are both programming concepts used for repetitive tasks, but they approach the task in different ways.\n",
    "\n",
    "Recursion:\n",
    "\n",
    "Recursion is a programming technique where a function calls itself in its own definition. A recursive function typically has a base case that terminates the recursion and one or more recursive cases where the function calls itself with modified arguments. \n",
    "\n",
    "Iteration:\n",
    "\n",
    "Iteration involves using loops (e.g., for or while loops) to repeatedly execute a block of code until a certain condition is met. It's a more straightforward way of performing repetitive tasks. "
   ]
  },
  {
   "cell_type": "code",
   "execution_count": 8,
   "id": "be09f9b3-29ac-4c5c-b724-e716ad4e8f93",
   "metadata": {},
   "outputs": [
    {
     "name": "stdin",
     "output_type": "stream",
     "text": [
      "Enter the number :  5\n"
     ]
    },
    {
     "data": {
      "text/plain": [
       "120"
      ]
     },
     "execution_count": 8,
     "metadata": {},
     "output_type": "execute_result"
    }
   ],
   "source": [
    "#2. Write a Python program to calculate the factorial of a number using recursion.\n",
    "\n",
    "\n",
    "number = int(input('Enter the number : '))\n",
    "def factorial(x):\n",
    "    if x == 0 or x ==1:\n",
    "        return 1\n",
    "    else:\n",
    "        return x * factorial(x-1)\n",
    "    \n",
    "factorial(number)"
   ]
  },
  {
   "cell_type": "code",
   "execution_count": 20,
   "id": "f22f0d17-6b9f-4531-9c9c-50f716d78297",
   "metadata": {},
   "outputs": [
    {
     "name": "stdin",
     "output_type": "stream",
     "text": [
      "Enter the vlaue of n :  5\n"
     ]
    },
    {
     "data": {
      "text/plain": [
       "3"
      ]
     },
     "execution_count": 20,
     "metadata": {},
     "output_type": "execute_result"
    }
   ],
   "source": [
    "#3. Create a recursive Python function to find the nth Fibonacci number.\n",
    "\n",
    "n = int(input('Enter the vlaue of n : '))\n",
    "\n",
    "def Fibonacci(x):\n",
    "    if x <= 0:\n",
    "        return \"Invalid input\"\n",
    "    elif x == 1:\n",
    "        return 0\n",
    "    elif x == 2:\n",
    "        return 1\n",
    "    else:\n",
    "        return Fibonacci(x - 1) + Fibonacci(x - 2)\n",
    "\n",
    "Fibonacci(n)   "
   ]
  },
  {
   "cell_type": "code",
   "execution_count": 51,
   "id": "c3ce9116-9205-4391-a8ed-d5024165b9e4",
   "metadata": {},
   "outputs": [
    {
     "data": {
      "text/plain": [
       "55"
      ]
     },
     "execution_count": 51,
     "metadata": {},
     "output_type": "execute_result"
    }
   ],
   "source": [
    "#4. Write a recursive Python function to calculate the sum of all elements in a list.\n",
    "\n",
    "list_1 = [1,2,3,4,5,6,7,8,9,10]\n",
    "def add(x):\n",
    "    if x  <= 0:\n",
    "        return list_1[0]\n",
    "    else:\n",
    "        return list_1[x] + add(x-1)\n",
    "add(len(list_1)-1)"
   ]
  },
  {
   "cell_type": "markdown",
   "id": "6499ba9d-020b-4474-8c8e-f346a5fa65ae",
   "metadata": {},
   "source": [
    "#5. How can you prevent a recursive function from running indefinitely, causing a stack overflow error?\n",
    "\n",
    "- By giving the base case which can stop the recursion \n",
    "\n",
    "list_1 = [1,2,3,4,5,6,7,8,9,10]\n",
    "def add(x):\n",
    "    if x  <= 0:\n",
    "        return list_1[0]\n",
    "    else:\n",
    "        return list_1[x] + add(x-1)\n",
    "add(len(list_1)-1)\n",
    "\n",
    "justr like (if x  <= 0:) in above program, will stop returning the final value."
   ]
  },
  {
   "cell_type": "code",
   "execution_count": 53,
   "id": "8ee15798-2b38-40e9-b3be-02b67385e6b6",
   "metadata": {},
   "outputs": [
    {
     "name": "stdin",
     "output_type": "stream",
     "text": [
      "Enter the first number :  48\n",
      "Enter the second number :  18\n"
     ]
    },
    {
     "data": {
      "text/plain": [
       "6"
      ]
     },
     "execution_count": 53,
     "metadata": {},
     "output_type": "execute_result"
    }
   ],
   "source": [
    "#6. Create a recursive Python function to find the greatest common divisor (GCD) of two numbers using the Euclidean algorithm.\n",
    "\n",
    "a = int(input('Enter the first number : '))\n",
    "b = int(input('Enter the second number : '))\n",
    "\n",
    "def GCD(a, b):\n",
    "    if b == 0:\n",
    "        return a\n",
    "    else:\n",
    "        return GCD(b, a % b)\n",
    "GCD(a, b)"
   ]
  },
  {
   "cell_type": "code",
   "execution_count": 55,
   "id": "850efaf5-a87f-4a88-a884-df0510de85f2",
   "metadata": {},
   "outputs": [
    {
     "name": "stdin",
     "output_type": "stream",
     "text": [
      "Enter the string :  PWSKILLS\n"
     ]
    },
    {
     "data": {
      "text/plain": [
       "'SLLIKSWP'"
      ]
     },
     "execution_count": 55,
     "metadata": {},
     "output_type": "execute_result"
    }
   ],
   "source": [
    "#7. Write a recursive Python function to reverse a string.\n",
    "\n",
    "string_1 = (input('Enter the string : '))\n",
    "\n",
    "def reverse_stirng(x):\n",
    "    if x <= 0:\n",
    "        return string_1[0]\n",
    "    else:\n",
    "        return string_1[x] +  reverse_stirng(x-1)\n",
    "reverse_stirng(len(string_1)-1)"
   ]
  },
  {
   "cell_type": "code",
   "execution_count": 56,
   "id": "6b4697b0-5f67-4fc3-b253-3d64d44e64f5",
   "metadata": {},
   "outputs": [
    {
     "name": "stdout",
     "output_type": "stream",
     "text": [
      "To find the value of x^n\n"
     ]
    },
    {
     "name": "stdin",
     "output_type": "stream",
     "text": [
      "Enter the vale of x :  2\n",
      "Enter the vale of x :  5\n"
     ]
    },
    {
     "data": {
      "text/plain": [
       "32"
      ]
     },
     "execution_count": 56,
     "metadata": {},
     "output_type": "execute_result"
    }
   ],
   "source": [
    "#8. Create a recursive Python function to calculate the power of a number (x^n).\n",
    "print('To find the value of x^n')\n",
    "x = int(input('Enter the vale of x : '))\n",
    "n = int(input('Enter the vale of x : '))\n",
    "\n",
    "def square(n):\n",
    "    if n <=0 :\n",
    "        return 1\n",
    "    else:\n",
    "        return x * square(n-1)\n",
    "square(n)"
   ]
  },
  {
   "cell_type": "code",
   "execution_count": 61,
   "id": "000e6897-66c0-4449-8f05-7b21df5b3f11",
   "metadata": {},
   "outputs": [
    {
     "data": {
      "text/plain": [
       "['abc', 'acb', 'bac', 'bca', 'cab', 'cba']"
      ]
     },
     "execution_count": 61,
     "metadata": {},
     "output_type": "execute_result"
    }
   ],
   "source": [
    "#9. Write a recursive Python function to find all permutations of a given string.\n",
    "\n",
    "def get_permutations(s):\n",
    "    if len(s) <= 1:\n",
    "        return [s]\n",
    "    \n",
    "    permutations = []\n",
    "\n",
    "    for i, char in enumerate(s):\n",
    "        remaining_chars = s[:i] + s[i+1:]\n",
    "        partial_permutations = get_permutations(remaining_chars)\n",
    "\n",
    "        for perm in partial_permutations:\n",
    "            permutations.append(char + perm)\n",
    "\n",
    "    return permutations\n",
    "\n",
    "string_1 = \"abc\"\n",
    "get_permutations(string_1)\n"
   ]
  },
  {
   "cell_type": "code",
   "execution_count": 65,
   "id": "774db8f1-9cf3-4168-9e44-719697a6fcda",
   "metadata": {},
   "outputs": [
    {
     "name": "stdin",
     "output_type": "stream",
     "text": [
      "Enter the string :  PWWP\n"
     ]
    },
    {
     "name": "stdout",
     "output_type": "stream",
     "text": [
      "yes\n"
     ]
    }
   ],
   "source": [
    "#10. Write a recursive Python function to check if a string is a palindrome.\n",
    "\n",
    "\n",
    "string_1 = (input('Enter the string : '))\n",
    "\n",
    "def reverse_stirng(x):\n",
    "    if x <= 0:\n",
    "        return string_1[0]\n",
    "    else:\n",
    "        return string_1[x] +  reverse_stirng(x-1)\n",
    "if string_1 == reverse_stirng(len(string_1)-1):\n",
    "    print('yes')\n",
    "else:\n",
    "    print('no')"
   ]
  },
  {
   "cell_type": "code",
   "execution_count": 72,
   "id": "121b25b3-f550-494c-ac18-b098408d696f",
   "metadata": {},
   "outputs": [
    {
     "data": {
      "text/plain": [
       "[['a', 'b', 'c'],\n",
       " ['a', 'c', 'b'],\n",
       " ['b', 'a', 'c'],\n",
       " ['b', 'c', 'a'],\n",
       " ['c', 'a', 'b'],\n",
       " ['c', 'b', 'a']]"
      ]
     },
     "execution_count": 72,
     "metadata": {},
     "output_type": "execute_result"
    }
   ],
   "source": [
    "#11. Create a recursive Python function to generate all possible combinations of a list of elements.\n",
    "\n",
    "\n",
    "def get_permutations(s):\n",
    "    if len(s) <= 1:\n",
    "        return [s]\n",
    "    \n",
    "    permutations = []\n",
    "\n",
    "    for i, char in enumerate(s):\n",
    "        remaining_chars = s[:i] + s[i+1:]\n",
    "        partial_permutations = get_permutations(remaining_chars)\n",
    "\n",
    "        for perm in partial_permutations:\n",
    "            permutations.append(list(char) + list(perm))\n",
    "\n",
    "    return permutations\n",
    "\n",
    "list_1 = ['a','b','c']\n",
    "get_permutations(list_1)"
   ]
  },
  {
   "cell_type": "code",
   "execution_count": null,
   "id": "c4343010-716a-4c88-a9b7-493cbc0ab382",
   "metadata": {},
   "outputs": [],
   "source": []
  },
  {
   "cell_type": "markdown",
   "id": "79b7db6d-2ea5-479b-9a1e-238b21325f90",
   "metadata": {},
   "source": [
    "Basics of Functions:\n"
   ]
  },
  {
   "cell_type": "code",
   "execution_count": null,
   "id": "efe2e436-559c-4f44-96b7-92dd87cca9c7",
   "metadata": {},
   "outputs": [],
   "source": []
  },
  {
   "cell_type": "raw",
   "id": "a4b3b430-21a9-4629-be41-1aa7c6de3468",
   "metadata": {},
   "source": [
    "#1. What is a function in Python, and why is it used?\n",
    "\n",
    "\n",
    "Funtion is a block of code/statemens, which performs some operaition.\n",
    "it is defined in funtion head using def keyword and function name with paranthesis()\n",
    "the function body is stated with indentation below the function head.\n",
    "\n",
    "eg : \n",
    "    def function_name():\n",
    "        -\n",
    "        -function body\n",
    "        -\n",
    "        "
   ]
  },
  {
   "cell_type": "code",
   "execution_count": 73,
   "id": "eacd36a0-1ae8-4131-abcb-77a37321fc16",
   "metadata": {},
   "outputs": [
    {
     "name": "stdout",
     "output_type": "stream",
     "text": [
      "3\n"
     ]
    }
   ],
   "source": [
    "#2. How do you define a function in Python? Provide an example.\n",
    "\n",
    "\n",
    "'''Funtion is a block of code/statemens, which performs some operaition.\n",
    "it is defined in funtion head using def keyword and function name with paranthesis()\n",
    "the function body is stated with indentation below the function head.'''\n",
    "\n",
    "def addition(a,b):\n",
    "    return a + b\n",
    "result = addition(1,2)\n",
    "print(result)\n",
    "    "
   ]
  },
  {
   "cell_type": "raw",
   "id": "be6ef6a6-7116-4589-9b12-7b5abff5b76d",
   "metadata": {},
   "source": [
    "#3. Explain the difference between a function definition and a function call.\n",
    "\n",
    "\n",
    "def addition(a,b): <--------- function definition \n",
    "    return a + b\n",
    "result = addition(1,2) <----- function call\n",
    "print(result)\n",
    "\n",
    "\n",
    "In the above function function definition is where you define the function.\n",
    "function call, is where you call inputing the values of paramaters to run the function.\n",
    "    "
   ]
  },
  {
   "cell_type": "code",
   "execution_count": null,
   "id": "a5752270-2532-47ce-90e3-0d0905a58c58",
   "metadata": {},
   "outputs": [
    {
     "name": "stdout",
     "output_type": "stream",
     "text": [
      "3\n"
     ]
    }
   ],
   "source": [
    "#4. Write a Python program that defines a function to calculate the sum of two numbers and then calls the function.\n",
    "\n",
    "def addition(a,b): \n",
    "    return a + b\n",
    "result = addition(1,2)\n",
    "print(result)\n"
   ]
  },
  {
   "cell_type": "markdown",
   "id": "74f6583f-7b44-4c01-9914-155f30bb8e21",
   "metadata": {},
   "source": [
    "#5. What is a function signature, and what information does it typically include?\n",
    "\n",
    "Function signature is a way of writing the function in which we try to get the exact inputs of parameters/arguments whcih have predefined datattypes.\n",
    "also returns the function return in the exact same datatype form."
   ]
  },
  {
   "cell_type": "code",
   "execution_count": 76,
   "id": "a0e9de0d-14f3-49de-8188-a08f0775f41e",
   "metadata": {},
   "outputs": [
    {
     "name": "stdout",
     "output_type": "stream",
     "text": [
      "2\n"
     ]
    }
   ],
   "source": [
    "#6. Create a Python function that takes two arguments and returns their product.\n",
    "\n",
    "def product(a,b): \n",
    "    return a * b\n",
    "result = product(1,2)\n",
    "print(result)\n"
   ]
  },
  {
   "cell_type": "code",
   "execution_count": null,
   "id": "28e62b2d-d65f-48cd-b888-9fd8eb296611",
   "metadata": {},
   "outputs": [],
   "source": []
  },
  {
   "cell_type": "raw",
   "id": "8e0c523b-30b5-4a9a-9bdc-665ae8da71fe",
   "metadata": {},
   "source": [
    "Function Parameters and Arguments:"
   ]
  },
  {
   "cell_type": "code",
   "execution_count": null,
   "id": "01aa4b7e-5e6f-4221-873c-e449da7f265a",
   "metadata": {},
   "outputs": [],
   "source": []
  },
  {
   "cell_type": "raw",
   "id": "afba12a7-99f0-4aaf-a96f-b66f4316986c",
   "metadata": {},
   "source": [
    "#1. Explain the concepts of formal parameters and actual arguments in Python functions.\n",
    "\n",
    "Formal Parameters - The parameters we specify while function assignment to the function name are formal parameters.\n",
    "\n",
    "Actual arguments - The parameters we specify while function calling are the actual arguments.\n",
    "\n",
    "Example - \n",
    "\n",
    "def product(a,b): \n",
    "    return a * b\n",
    "x = 1\n",
    "y = 2\n",
    "result = product(x,y)\n",
    "print(result)\n",
    "\n",
    "---------------------------\n",
    "\n",
    "In the above code a & b are formal parameters and x & y are actual parameters.\n"
   ]
  },
  {
   "cell_type": "code",
   "execution_count": 9,
   "id": "5a8c7220-db76-4d59-b5d3-f2efcf949bc2",
   "metadata": {},
   "outputs": [
    {
     "name": "stdout",
     "output_type": "stream",
     "text": [
      "sum =  12\n",
      "sum =  7\n"
     ]
    }
   ],
   "source": [
    "#2. Write a Python program that defines a function with default argument values.\n",
    "\n",
    "def add_number(a=4,b=8):\n",
    "    sum = a+b\n",
    "    print('sum = ',sum)\n",
    "add_number()  # without change in values\n",
    "add_number(3,4) # we can change the values of args (overwriting)\n"
   ]
  },
  {
   "cell_type": "raw",
   "id": "d203b805-bfe3-4110-8380-4aea1f0177d1",
   "metadata": {},
   "source": [
    "#3. How do you use keyword arguments in Python function calls? Provide an example.\n",
    "\n",
    "*args - This is used to take the undefined count of user input \n",
    "**kargs - This is used to take the undefined count of user input in key - value format.\n",
    "\n",
    "def product(*args):\n",
    "    result = 1\n",
    "    for x in args:\n",
    "        result = result * x \n",
    "    return result \n",
    "product(3,4,5,6)\n",
    "\n",
    "----------------------\n",
    "\n",
    "def product(**kargs):\n",
    "    result = 1\n",
    "    for x,y in kargs.items():\n",
    "        result = result * y\n",
    "    return result \n",
    "product(a=2,b=4,c=5)"
   ]
  },
  {
   "cell_type": "code",
   "execution_count": null,
   "id": "fff049d3-9a63-4c7d-a42f-0874899d4b45",
   "metadata": {},
   "outputs": [
    {
     "name": "stdin",
     "output_type": "stream",
     "text": [
      "Enter the numbers in list with space :  1 2 3 4 5\n",
      "Enter the first veriable number :  2\n",
      "Enter the second veriable number :  3\n"
     ]
    },
    {
     "data": {
      "text/plain": [
       "5"
      ]
     },
     "execution_count": 5,
     "metadata": {},
     "output_type": "execute_result"
    }
   ],
   "source": [
    "# 4. Create a Python function that accepts a variable number of arguments and calculates their sum.\n",
    "\n",
    "list_num = input('Enter the numbers in list with space : ').split()\n",
    "num_1 = int(input('Enter the first veriable number : '))\n",
    "num_2 = int(input('Enter the second veriable number : '))\n",
    "def addition(a,b):\n",
    "    return a+b\n",
    "x = int(list_num[num_1-1])\n",
    "y = int(list_num[num_2-1])\n",
    "addition(x,y)\n"
   ]
  },
  {
   "cell_type": "raw",
   "id": "fde02395-3fdf-42ad-96ed-8c62ee228684",
   "metadata": {},
   "source": [
    "# 5. What is the purpose of the `*args` and `**kwargs` syntax in function parameter lists?\n",
    "\n",
    "*args - This is used to take the undefined count of user input as actual parameters.\n",
    "**kargs - This is used to take the undefined count of user input at actual parameters in key - value format."
   ]
  },
  {
   "cell_type": "code",
   "execution_count": null,
   "id": "3cadff5f-c5a2-4f74-be8a-8b6463f43bd5",
   "metadata": {},
   "outputs": [],
   "source": []
  },
  {
   "cell_type": "raw",
   "id": "04e96c9a-9c8e-427b-bd67-216a13a77b51",
   "metadata": {},
   "source": [
    "Return Values and Scoping:"
   ]
  },
  {
   "cell_type": "code",
   "execution_count": null,
   "id": "d582ed21-4aa6-4541-bca2-52135cfe96ee",
   "metadata": {},
   "outputs": [],
   "source": []
  },
  {
   "cell_type": "raw",
   "id": "a6406d57-5451-4211-8b25-cfcdb8deb882",
   "metadata": {},
   "source": [
    "# 1. Describe the role of the `return` statement in Python functions and provide examples.\n",
    "\n",
    "Return gives the final results of the function defined with the provided veriables as parameters to the function body.\n",
    "\n",
    "def product(a,b): \n",
    "    return a * b\n",
    "result = product(1,2)\n",
    "print(result)"
   ]
  },
  {
   "cell_type": "raw",
   "id": "b374275a-9e2d-4b5b-afff-a914a8673f37",
   "metadata": {},
   "source": [
    "# 2. Explain the concept of variable scope in Python, including local and global variables.\n",
    "\n",
    "GLobal Veriable - The veriables that are assigned outside the function body are called as Global veriables.\n",
    "Scope - Global veriables are accessable both inside and outside the function.\n",
    "\n",
    "Local veriable - The veriables that are assigned inside the function body are called as Local veriables.\n",
    "scope - Local veriables are accessable only inside the function body.\n"
   ]
  },
  {
   "cell_type": "code",
   "execution_count": 13,
   "id": "0adb56ec-19ae-41bc-8044-2c7c6d791226",
   "metadata": {},
   "outputs": [
    {
     "data": {
      "text/plain": [
       "13"
      ]
     },
     "execution_count": 13,
     "metadata": {},
     "output_type": "execute_result"
    }
   ],
   "source": [
    "# 3. Write a Python program that demonstrates the use of global variables within functions.\n",
    "\n",
    "\n",
    "a = 10 #<------- Local veriable\n",
    "def add(b):\n",
    "    return a+b #<----- accessing inside function\n",
    "add(3)\n"
   ]
  },
  {
   "cell_type": "code",
   "execution_count": 26,
   "id": "5125afac-60fc-4c12-bbf1-70ccdb94506d",
   "metadata": {},
   "outputs": [
    {
     "data": {
      "text/plain": [
       "120"
      ]
     },
     "execution_count": 26,
     "metadata": {},
     "output_type": "execute_result"
    }
   ],
   "source": [
    "# 4. Create a Python function that calculates the factorial of a number and returns it.\n",
    "\n",
    "def fact(a):\n",
    "    if a == 0:\n",
    "        return 1\n",
    "    else:\n",
    "        return a * fact(a-1)\n",
    "fact(5)"
   ]
  },
  {
   "cell_type": "raw",
   "id": "a4fac04d-5492-4a31-8ac8-228d3b657516",
   "metadata": {},
   "source": [
    "# 5. How can you access variables defined outside a function from within the function?\n",
    "\n",
    "Using global keyword."
   ]
  },
  {
   "cell_type": "code",
   "execution_count": null,
   "id": "3076dd71-703c-476f-aa7b-adc7184133fd",
   "metadata": {},
   "outputs": [],
   "source": []
  },
  {
   "cell_type": "raw",
   "id": "16ead37f-2d4e-45a9-8d34-1a31cd919b3d",
   "metadata": {},
   "source": [
    "Lambda Functions and Higher-Order Functions:"
   ]
  },
  {
   "cell_type": "code",
   "execution_count": null,
   "id": "26449f9d-c40c-4891-9a96-810286b7146a",
   "metadata": {},
   "outputs": [],
   "source": []
  },
  {
   "cell_type": "raw",
   "id": "51ee78ca-349b-4264-b9dd-c2c78eca7fda",
   "metadata": {},
   "source": [
    "# 1. What are lambda functions in Python, and when are they typically used?\n",
    "\n",
    "Lambda functions are the the anonymous functuions used to shorten the code and improve complexity of the program."
   ]
  },
  {
   "cell_type": "code",
   "execution_count": 35,
   "id": "aba543a1-1935-4fbf-aba0-a94a2ebcbf95",
   "metadata": {},
   "outputs": [
    {
     "data": {
      "text/plain": [
       "[(1, 0, 3), (1, 2, 3), (7, 3, 5), (4, 5, 8)]"
      ]
     },
     "execution_count": 35,
     "metadata": {},
     "output_type": "execute_result"
    }
   ],
   "source": [
    "# 2.Write a Python program that uses lambda functions to sort a list of tuples based on the second element.\n",
    "\n",
    "list_tuples = [(1,2,3),(1,0,3),(4,5,8),(7,3,5)]\n",
    "\n",
    "list_tuples.sort(key = lambda x : x[1])\n",
    "list_tuples    "
   ]
  },
  {
   "cell_type": "raw",
   "id": "241be4a8-413f-4511-880a-1b983307d3ad",
   "metadata": {},
   "source": [
    "# 3. Explain the concept of higher-order functions in Python, and provide an example.\n",
    "\n",
    "The function that returns another function as as parameter or return.\n",
    "\n",
    "Example -\n",
    "\n",
    "def add_1(a,b):\n",
    "    return a+b\n",
    "def add_2(c,d):\n",
    "    return c+d\n",
    "\n",
    "result = add_1(add_2(1,2),3)\n",
    "result\n"
   ]
  },
  {
   "cell_type": "code",
   "execution_count": 49,
   "id": "6c3ef0d9-1d29-4386-b8df-457ed7aff972",
   "metadata": {},
   "outputs": [
    {
     "data": {
      "text/plain": [
       "[1, 4, 9, 16, 25]"
      ]
     },
     "execution_count": 49,
     "metadata": {},
     "output_type": "execute_result"
    }
   ],
   "source": [
    "# 4. Create a Python function that takes a list of numbers and a function as arguments, applying the function to each element in the list.\n",
    "\n",
    "after_apply = []\n",
    "\n",
    "def square(a):\n",
    "    return a * a \n",
    "\n",
    "def apply_fun_all(square, list_elements):\n",
    "    for x in list_elements:\n",
    "        after_apply.append(square(x))\n",
    "\n",
    "numbers = [1, 2, 3, 4, 5]\n",
    "squared_numbers = apply_fun_all(square, numbers)\n",
    "after_apply"
   ]
  },
  {
   "cell_type": "code",
   "execution_count": null,
   "id": "e4381f91-5fcd-4e46-b1be-2eecac369872",
   "metadata": {},
   "outputs": [],
   "source": []
  },
  {
   "cell_type": "code",
   "execution_count": null,
   "id": "31ca7e51-c1b8-4253-b22a-bea52e13f458",
   "metadata": {},
   "outputs": [],
   "source": [
    "Built-in Functions:"
   ]
  },
  {
   "cell_type": "code",
   "execution_count": null,
   "id": "d37f22a4-d7ca-4946-9417-ec38e0b90125",
   "metadata": {},
   "outputs": [],
   "source": []
  },
  {
   "cell_type": "raw",
   "id": "39b61a82-347c-4edf-9b13-419f460f2c50",
   "metadata": {},
   "source": [
    "# 1. Describe the role of built-in functions like `len()`, `max()`, and `min()` in Python.\n",
    "\n",
    "len() - len gives the count of individual elements involved in the veriable.\n",
    "max() - max gives the maximum value of any array.\n",
    "min() - min gives the minimum value of any array.\n"
   ]
  },
  {
   "cell_type": "code",
   "execution_count": 4,
   "id": "75bb2e57-4e3c-495b-bc56-c093e693ddf4",
   "metadata": {},
   "outputs": [
    {
     "data": {
      "text/plain": [
       "[1, 4, 9, 16]"
      ]
     },
     "execution_count": 4,
     "metadata": {},
     "output_type": "execute_result"
    }
   ],
   "source": [
    "# 2. Write a Python program that uses the `map()` function to apply a function to each element of a list.\n",
    "\n",
    "def square(a):\n",
    "    return a*a\n",
    "    \n",
    "list_1 = [1,2,3,4]\n",
    "list(map(square,list_1))\n"
   ]
  },
  {
   "cell_type": "code",
   "execution_count": 6,
   "id": "c6935d9f-618a-4626-a221-cf57086bec58",
   "metadata": {},
   "outputs": [
    {
     "data": {
      "text/plain": [
       "[2, 4]"
      ]
     },
     "execution_count": 6,
     "metadata": {},
     "output_type": "execute_result"
    }
   ],
   "source": [
    "# 3. How does the `filter()` function work in Python, and when would you use it?\n",
    "\n",
    "def find_even(a):\n",
    "    if a %2 == 0:\n",
    "        return a \n",
    "list_1 = [1,2,3,4]\n",
    "\n",
    "list(filter(find_even,list_1))\n",
    "\n",
    "#The filter() function in Python is a built-in function that is used to filter elements from an iterable based on a specified function or condition. It takes two arguments."
   ]
  },
  {
   "cell_type": "code",
   "execution_count": 18,
   "id": "c3098ba4-81b3-4305-a12c-67cb3ce4aeb3",
   "metadata": {},
   "outputs": [
    {
     "data": {
      "text/plain": [
       "24"
      ]
     },
     "execution_count": 18,
     "metadata": {},
     "output_type": "execute_result"
    }
   ],
   "source": [
    "# 4. Create a Python program that uses the `reduce()` function to find the product of all elements in a list.\n",
    "\n",
    "from functools import reduce\n",
    "def product(a,b):\n",
    "    return a*b\n",
    "list_1 = [1,2,3,4]\n",
    "\n",
    "reduce(product, list_1)\n"
   ]
  },
  {
   "cell_type": "code",
   "execution_count": null,
   "id": "1559e1fd-5a82-4532-9669-7ed950be48fb",
   "metadata": {},
   "outputs": [],
   "source": []
  },
  {
   "cell_type": "raw",
   "id": "243980a0-7a6b-470e-83e2-3e64247986df",
   "metadata": {},
   "source": [
    "Function Documentation and Best Practices:"
   ]
  },
  {
   "cell_type": "code",
   "execution_count": null,
   "id": "c945bee2-0b7a-4c44-8a2f-0f7ad1603029",
   "metadata": {},
   "outputs": [],
   "source": []
  },
  {
   "cell_type": "code",
   "execution_count": 20,
   "id": "35c1ad5e-54b6-4df2-9c75-4925e5870054",
   "metadata": {},
   "outputs": [
    {
     "data": {
      "text/plain": [
       "'When we have string of more than one line or a paragraph we use doc srring. The most importent purpose is to sdocument the entities of the code such as function, class, method and so on.'"
      ]
     },
     "execution_count": 20,
     "metadata": {},
     "output_type": "execute_result"
    }
   ],
   "source": [
    "# 1. Explain the purpose of docstrings in Python functions and how to write them.\n",
    "'''When we have string of more than one line or a paragraph we use doc srring. The most importent purpose is to sdocument the entities of the code such as function, class, method and so on.'''"
   ]
  },
  {
   "cell_type": "raw",
   "id": "418f2539-e7e4-4b04-a82b-5777e955b854",
   "metadata": {},
   "source": [
    "# 2. Describe some best practices for naming function and vaiable in python, including naming conventions and guidelines.\n",
    "- Best practice is to use the names in lower case and can have multiple words sperated by _ , We can use any predefined function as function name. Avoid special characters in function and veriable name except '_'."
   ]
  },
  {
   "cell_type": "code",
   "execution_count": null,
   "id": "8ad43f4a-8447-4e7e-a9e5-9f9798ad5e29",
   "metadata": {},
   "outputs": [],
   "source": []
  }
 ],
 "metadata": {
  "kernelspec": {
   "display_name": "Python 3 (ipykernel)",
   "language": "python",
   "name": "python3"
  },
  "language_info": {
   "codemirror_mode": {
    "name": "ipython",
    "version": 3
   },
   "file_extension": ".py",
   "mimetype": "text/x-python",
   "name": "python",
   "nbconvert_exporter": "python",
   "pygments_lexer": "ipython3",
   "version": "3.10.8"
  }
 },
 "nbformat": 4,
 "nbformat_minor": 5
}
